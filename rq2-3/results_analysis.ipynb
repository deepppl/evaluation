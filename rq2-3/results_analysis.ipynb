{
 "metadata": {
  "language_info": {
   "codemirror_mode": {
    "name": "ipython",
    "version": 3
   },
   "file_extension": ".py",
   "mimetype": "text/x-python",
   "name": "python",
   "nbconvert_exporter": "python",
   "pygments_lexer": "ipython3",
   "version": "3.9.1-final"
  },
  "orig_nbformat": 2,
  "kernelspec": {
   "name": "python3",
   "display_name": "Python 3",
   "language": "python"
  }
 },
 "nbformat": 4,
 "nbformat_minor": 2,
 "cells": [
  {
   "cell_type": "code",
   "execution_count": 1,
   "metadata": {},
   "outputs": [],
   "source": [
    "import pandas as pd\n",
    "import scipy.stats\n",
    "import os"
   ]
  },
  {
   "cell_type": "code",
   "execution_count": 14,
   "metadata": {},
   "outputs": [],
   "source": [
    "def preprocess_logs(name, logdir=\"logs\"):\n",
    "    dfs = []\n",
    "    duration_files = [f for f in os.listdir(logdir) if f\"duration_{name}_\" in f]\n",
    "    n = len(duration_files)\n",
    "    for i, f in enumerate(duration_files):\n",
    "        df = pd.read_csv(f\"{logdir}/{f}\", index_col=0)\n",
    "        df.columns = [f\"{name}_{i}_{x}\" for x in df.columns]\n",
    "        dfs.append(df)\n",
    "\n",
    "    status_file = next(f for f in os.listdir(logdir) if f\"status_{name}_\" in f)\n",
    "    df = pd.read_csv(f\"{logdir}/{status_file}\", index_col=0)\n",
    "    df.columns = [f\"{name}_{x}\" for x in df.columns]\n",
    "    dfs.append(df)\n",
    "\n",
    "    df = pd.concat(dfs, axis=1)\n",
    "    df[f\"{name}_time\"] = df[[f\"{name}_{i}_time\" for i in range(n)]].mean(axis=1)\n",
    "    df[f\"{name}_time_std\"] = df[[f\"{name}_{i}_time\" for i in range(n)]].std(axis=1)\n",
    "\n",
    "    tfrmt = lambda x: x if pd.isna(x) else f\"{x // 3600:02.0f}:{x // 60 % 60:02.0f}:{x % 60:02.0f}\"\n",
    "    df[f\"{name}_duration\"] = df[f\"{name}_time\"].apply(tfrmt)\n",
    "\n",
    "    return df[[f\"{name}_status\", f\"{name}_time\", f\"{name}_time_std\", f\"{name}_duration\"]]"
   ]
  },
  {
   "cell_type": "code",
   "execution_count": 3,
   "metadata": {},
   "outputs": [],
   "source": [
    "pyro_comprehensive = preprocess_average(\"pyro_comprehensive\", \"new_logs\")\n",
    "numpyro_comprehensive = preprocess_average(\"numpyro_comprehensive\", \"new_logs\")\n",
    "numpyro_mixed = preprocess_average(\"numpyro_mixed\", \"new_logs\")\n",
    "numpyro_generative = preprocess_average(\"numpyro_generative\", \"new_logs\")\n",
    "stan = preprocess_average(\"stan\", \"new_logs\")"
   ]
  },
  {
   "cell_type": "code",
   "execution_count": 4,
   "metadata": {},
   "outputs": [],
   "source": [
    "mean_res = pd.concat([pyro_comprehensive, numpyro_mixed, numpyro_comprehensive, numpyro_generative, stan], axis=1)\n",
    "mean_res['example'] = mean_res.index.map(lambda x: x.split(\"-\")[1])\n",
    "mean_res['data'] = mean_res.index.map(lambda x: x.split(\"-\")[0])\n",
    "mean_res = mean_res.sort_values(by='example')\n",
    "\n",
    "mean_res['speedup'] = (mean_res.stan_time / mean_res.numpyro_comprehensive_time)\n",
    "speedups = mean_res[mean_res.numpyro_comprehensive_status == \"success\"]['speedup']\n",
    "mean_res['speedup'] = speedups"
   ]
  },
  {
   "cell_type": "code",
   "execution_count": 9,
   "metadata": {},
   "outputs": [
    {
     "output_type": "stream",
     "name": "stdout",
     "text": [
      "Total benchs: 31\nStan successes: 31\nHigh relative std: []\nValid benchs: 30\nValid speedup: 25\nTime Stan: 1.6236440341496168\n"
     ]
    }
   ],
   "source": [
    "print(f\"Total benchs: {len(mean_res)}\")\n",
    "print(f\"Stan successes: {len(mean_res[mean_res.stan_status == 'success'])}\")\n",
    "print(f\"High relative std: {mean_res[mean_res.stan_time_std / mean_res.stan_time > 1.0].index.tolist()}\")\n",
    "mean_res = mean_res[mean_res.stan_status == \"success\"]\n",
    "mean_res = mean_res[mean_res.stan_time_std / mean_res.stan_time < 1.0]\n",
    "mean_res = mean_res.drop(\"arma-arma11\")\n",
    "print(f\"Valid benchs: {len(mean_res)}\")\n",
    "print(f\"Valid speedup: {len(mean_res['speedup'].dropna())}\")\n",
    "print(f\"Time Stan: {mean_res.stan_time.sum() / 60**2}\")"
   ]
  },
  {
   "cell_type": "code",
   "execution_count": 10,
   "metadata": {},
   "outputs": [
    {
     "output_type": "stream",
     "name": "stdout",
     "text": [
      "average speedup: 2.2361243655614644\nRelative std numpyro: 0.00795806625779655\nRelative std pyro: 0.08171841789310347\nRelative std stan: 0.021312511486504107\n"
     ]
    }
   ],
   "source": [
    "print(f\"average speedup: {scipy.stats.gmean(mean_res.speedup.dropna())}\")\n",
    "print(f\"Relative std numpyro: {mean_res.numpyro_comprehensive_time_std.mean() / mean_res.numpyro_comprehensive_time.mean()}\")\n",
    "print(f\"Relative std pyro: {mean_res.pyro_comprehensive_time_std.mean() / mean_res.pyro_comprehensive_time.mean()}\")\n",
    "print(f\"Relative std stan: {mean_res.stan_time_std.mean() / mean_res.stan_time.mean()}\")"
   ]
  },
  {
   "cell_type": "code",
   "execution_count": 11,
   "metadata": {},
   "outputs": [
    {
     "output_type": "stream",
     "name": "stdout",
     "text": [
      "|                                             | stan_status   | numpyro_comprehensive_status   |    speedup |\n|:--------------------------------------------|:--------------|:-------------------------------|-----------:|\n| mcycle_gp-accel_gp                          | success       | error                          | nan        |\n| arK-arK                                     | success       | success                        |   1.40263  |\n| dogs-dogs                                   | success       | success                        |   0.174855 |\n| dogs-dogs_log                               | success       | success                        |   0.127352 |\n| earnings-earn_height                        | success       | success                        |   5.44849  |\n| eight_schools-eight_schools_centered        | success       | success                        |   0.337915 |\n| eight_schools-eight_schools_noncentered     | success       | success                        |   0.17813  |\n| garch-garch11                               | success       | mismatch                       | nan        |\n| gp_pois_regr-gp_regr                        | success       | mismatch                       | nan        |\n| bball_drive_event_0-hmm_drive_0             | success       | success                        |   0.146712 |\n| hmm_example-hmm_example                     | success       | success                        |   0.447666 |\n| kidiq-kidscore_interaction                  | success       | success                        |   7.37442  |\n| kidiq_with_mom_work-kidscore_interaction_c2 | success       | success                        |   1.61656  |\n| kidiq_with_mom_work-kidscore_mom_work       | success       | success                        |   2.06864  |\n| kidiq-kidscore_momhs                        | success       | success                        |   0.864171 |\n| kidiq-kidscore_momhsiq                      | success       | success                        |   3.41319  |\n| kidiq-kidscore_momiq                        | success       | success                        |   1.71233  |\n| kilpisjarvi_mod-kilpisjarvi                 | success       | success                        |   2.89179  |\n| earnings-logearn_height                     | success       | success                        |   5.25645  |\n| earnings-logearn_height_male                | success       | success                        |   9.35482  |\n| earnings-logearn_logheight_male             | success       | success                        |  12.6203   |\n| mesquite-logmesquite_logvas                 | success       | success                        |   1.76522  |\n| hudson_lynx_hare-lotka_volterra             | success       | error                          | nan        |\n| mesquite-mesquite                           | success       | success                        |   1.88204  |\n| nes1980-nes                                 | success       | success                        |  13.0672   |\n| nes1976-nes                                 | success       | success                        |  20.9629   |\n| nes1972-nes                                 | success       | success                        |  18.0632   |\n| nes2000-nes                                 | success       | success                        |  11.9      |\n| nes1996-nes                                 | success       | success                        |  18.5701   |\n| one_comp_mm_elim_abs-one_comp_mm_elim_abs   | success       | error                          | nan        |\n"
     ]
    }
   ],
   "source": [
    "print(mean_res[[\"stan_status\", \"numpyro_comprehensive_status\", \"speedup\"]].to_markdown())"
   ]
  },
  {
   "cell_type": "code",
   "execution_count": 12,
   "metadata": {},
   "outputs": [
    {
     "output_type": "stream",
     "name": "stdout",
     "text": [
      "average speedup: 3.7262132714305323\nValid benchs: 25\nValid speedup: 20\n"
     ]
    }
   ],
   "source": [
    "filter_res = mean_res.drop([\"arK-arK\", \"dogs-dogs\", \"dogs-dogs_log\", \"bball_drive_event_0-hmm_drive_0\", \"hmm_example-hmm_example\"])\n",
    "print(f\"average speedup: {scipy.stats.gmean(filter_res.speedup.dropna())}\")\n",
    "print(f\"Valid benchs: {len(filter_res)}\")\n",
    "print(f\"Valid speedup: {len(filter_res['speedup'].dropna())}\")"
   ]
  },
  {
   "cell_type": "code",
   "execution_count": 8,
   "metadata": {},
   "outputs": [
    {
     "output_type": "stream",
     "name": "stdout",
     "text": [
      "\\begin{tabular}{lllllllllllll}\n\\toprule\n                  example &                 data & stan\\_status & stan\\_duration & pyro\\_comprehensive\\_status & pyro\\_comprehensive\\_duration & numpyro\\_comprehensive\\_status & numpyro\\_comprehensive\\_duration & numpyro\\_mixed\\_status & numpyro\\_mixed\\_duration & numpyro\\_generative\\_status & numpyro\\_generative\\_duration & speedup \\\\\n\\midrule\n                      arK &                  arK &     \\smark &      00:00:57 &                   \\smark &                    39:23:54 &                      \\smark &                       00:00:40 &              \\smark &               00:00:35 &                   \\smark &                    00:00:39 &    1.43 \\\\\n                     dogs &                 dogs &     \\smark &      00:01:05 &                   \\smark &                    24:58:30 &                      \\smark &                       00:06:20 &              \\smark &               00:06:22 &                   \\smark &                    00:06:21 &    0.17 \\\\\n                 dogs\\_log &                 dogs &     \\smark &      00:00:32 &                   \\smark &                    21:52:11 &                      \\smark &                       00:03:58 &              \\smark &               00:03:39 &                     \\emark &                          &    0.13 \\\\\n              earn\\_height &             earnings &     \\smark &      00:01:17 &                   \\smark &                    00:52:06 &                      \\smark &                       00:00:14 &              \\smark &               00:00:14 &                     \\emark &                          &    5.34 \\\\\n   eight\\_schools\\_centered &        eight\\_schools &     \\smark &      00:00:02 &                   \\smark &                    00:36:37 &                      \\smark &                       00:00:06 &              \\smark &               00:00:06 &                   \\smark &                    00:00:06 &    0.34 \\\\\neight\\_schools\\_noncentered &        eight\\_schools &     \\smark &      00:00:01 &                   \\smark &                    00:12:53 &                      \\smark &                       00:00:06 &              \\smark &               00:00:06 &                  \\mmark &                    00:00:06 &    0.18 \\\\\n                  garch11 &                garch &     \\smark &      00:00:16 &                  \\mmark &                    11:16:26 &                     \\mmark &                       00:01:25 &             \\mmark &               00:01:21 &                     \\emark &                          &      \\\\\n                  gp\\_regr &         gp\\_pois\\_regr &     \\smark &      00:00:02 &                     \\emark &                          &                     \\mmark &                       00:00:21 &             \\mmark &               00:00:24 &                  \\mmark &                    00:00:25 &      \\\\\n              hmm\\_drive\\_0 &  bball\\_drive\\_event\\_0 &     \\smark &      00:03:47 &                   \\smark &                    69:11:24 &                      \\smark &                       00:25:38 &              \\smark &               00:25:15 &                     \\emark &                          &    0.15 \\\\\n              hmm\\_example &          hmm\\_example &     \\smark &      00:00:28 &                   \\smark &                    08:02:47 &                      \\smark &                       00:01:03 &              \\smark &               00:00:58 &                     \\emark &                          &    0.45 \\\\\n     kidscore\\_interaction &                kidiq &     \\smark &      00:01:43 &                   \\smark &                    01:26:07 &                      \\smark &                       00:00:13 &              \\smark &               00:00:12 &                     \\emark &                          &    7.76 \\\\\n  kidscore\\_interaction\\_c2 &  kidiq\\_with\\_mom\\_work &     \\smark &      00:00:10 &                   \\smark &                    00:08:08 &                      \\smark &                       00:00:06 &              \\smark &               00:00:06 &                     \\emark &                          &    1.64 \\\\\n        kidscore\\_mom\\_work &  kidiq\\_with\\_mom\\_work &     \\smark &      00:00:14 &                   \\smark &                    00:10:23 &                      \\smark &                       00:00:07 &              \\smark &               00:00:06 &                     \\emark &                          &    2.12 \\\\\n           kidscore\\_momhs &                kidiq &     \\smark &      00:00:05 &                   \\smark &                    00:10:02 &                      \\smark &                       00:00:06 &              \\smark &               00:00:05 &                     \\emark &                          &    0.86 \\\\\n         kidscore\\_momhsiq &                kidiq &     \\smark &      00:00:28 &                   \\smark &                    00:32:28 &                      \\smark &                       00:00:08 &              \\smark &               00:00:07 &                     \\emark &                          &    3.40 \\\\\n           kidscore\\_momiq &                kidiq &     \\smark &      00:00:13 &                   \\smark &                    00:21:47 &                      \\smark &                       00:00:07 &              \\smark &               00:00:06 &                     \\emark &                          &    1.81 \\\\\n              kilpisjarvi &      kilpisjarvi\\_mod &     \\smark &      00:00:60 &                   \\smark &                    10:46:20 &                      \\smark &                       00:00:21 &              \\smark &               00:00:20 &                     \\emark &                          &    2.88 \\\\\n         log10earn\\_height &             earnings &     \\smark &      00:01:22 &                   \\smark &                    00:52:30 &                      \\smark &                       00:00:15 &              \\smark &               00:00:14 &                     \\emark &                          &    5.32 \\\\\n           logearn\\_height &             earnings &     \\smark &      00:01:20 &                   \\smark &                    00:44:05 &                      \\smark &                       00:00:15 &              \\smark &               00:00:14 &                     \\emark &                          &    5.38 \\\\\n      logearn\\_height\\_male &             earnings &     \\smark &      00:03:42 &                   \\smark &                    01:18:10 &                      \\smark &                       00:00:23 &              \\smark &               00:00:21 &                     \\emark &                          &    9.76 \\\\\n      logearn\\_interaction &             earnings &     \\smark &      00:09:05 &                   \\smark &                    02:05:15 &                      \\smark &                       00:00:40 &              \\smark &               00:00:38 &                     \\emark &                          &   13.76 \\\\\n   logearn\\_logheight\\_male &             earnings &     \\smark &      00:14:33 &                   \\smark &                    05:14:46 &                      \\smark &                       00:01:10 &              \\smark &               00:01:07 &                     \\emark &                          &   12.51 \\\\\n              logmesquite &             mesquite &     \\smark &      00:00:08 &                   \\smark &                    00:23:48 &                      \\smark &                       00:00:07 &              \\smark &               00:00:06 &                     \\emark &                          &    1.10 \\\\\n        logmesquite\\_logva &             mesquite &     \\smark &      00:00:05 &                   \\smark &                    00:22:44 &                      \\smark &                       00:00:06 &              \\smark &               00:00:06 &                     \\emark &                          &    0.82 \\\\\n       logmesquite\\_logvas &             mesquite &     \\smark &      00:00:14 &                   \\smark &                    00:44:15 &                      \\smark &                       00:00:08 &              \\smark &               00:00:08 &                     \\emark &                          &    1.76 \\\\\n      logmesquite\\_logvash &             mesquite &     \\smark &      00:00:12 &                   \\smark &                    00:40:41 &                      \\smark &                       00:00:07 &              \\smark &               00:00:07 &                     \\emark &                          &    1.58 \\\\\n                 mesquite &             mesquite &     \\smark &      00:00:16 &                   \\smark &                    00:55:36 &                      \\smark &                       00:00:08 &              \\smark &               00:00:07 &                     \\emark &                          &    1.95 \\\\\n                      nes &              nes1980 &     \\smark &      00:03:35 &                   \\smark &                    00:47:02 &                      \\smark &                       00:00:16 &              \\smark &               00:00:15 &                     \\emark &                          &   13.19 \\\\\n                      nes &              nes1976 &     \\smark &      00:07:13 &                   \\smark &                    00:45:15 &                      \\smark &                       00:00:20 &              \\smark &               00:00:19 &                     \\emark &                          &   21.30 \\\\\n                      nes &              nes1984 &     \\smark &      00:07:14 &                   \\smark &                    00:40:15 &                      \\smark &                       00:00:24 &              \\smark &               00:00:22 &                     \\emark &                          &   18.15 \\\\\n                      nes &              nes1972 &     \\smark &      00:07:49 &                   \\smark &                    00:40:30 &                      \\smark &                       00:00:25 &              \\smark &               00:00:24 &                     \\emark &                          &   18.54 \\\\\n                      nes &              nes2000 &     \\smark &      00:02:40 &                   \\smark &                    00:48:24 &                      \\smark &                       00:00:14 &              \\smark &               00:00:13 &                     \\emark &                          &   11.71 \\\\\n                      nes &              nes1996 &     \\smark &      00:06:37 &                   \\smark &                    00:46:08 &                      \\smark &                       00:00:21 &              \\smark &               00:00:20 &                     \\emark &                          &   18.71 \\\\\n                      nes &              nes1988 &     \\smark &      00:05:30 &                   \\smark &                    00:41:48 &                      \\smark &                       00:00:21 &              \\smark &               00:00:21 &                     \\emark &                          &   15.69 \\\\\n     one\\_comp\\_mm\\_elim\\_abs & one\\_comp\\_mm\\_elim\\_abs &     \\smark &      00:15:58 &                     \\emark &                          &                        \\emark &                             &                \\emark &                     &                     \\emark &                          &      \\\\\n\\bottomrule\n\\end{tabular}\n\n"
     ]
    }
   ],
   "source": [
    "mean_res['speedup'] = mean_res['speedup'].apply(lambda x: f\"{x:02.2f}\")\n",
    "print(\n",
    "    mean_res[\n",
    "        [\n",
    "            \"example\",\n",
    "            \"data\",\n",
    "            \"stan_status\",\n",
    "            \"stan_duration\",\n",
    "            \"pyro_comprehensive_status\",\n",
    "            \"pyro_comprehensive_duration\",\n",
    "            \"numpyro_comprehensive_status\",\n",
    "            \"numpyro_comprehensive_duration\",\n",
    "            \"numpyro_mixed_status\",\n",
    "            \"numpyro_mixed_duration\",\n",
    "            \"numpyro_generative_status\",\n",
    "            \"numpyro_generative_duration\",\n",
    "            \"speedup\",\n",
    "        ]\n",
    "    ].to_latex(index=False)\n",
    "    .replace(\"success\", \"\\smark\")\n",
    "    .replace(\"error\", \"\\emark\")\n",
    "    .replace(\"mismatch\", \"\\mmark\")\n",
    "    .replace(\"NaN\", \"\")\n",
    "    .replace(\"nan\", \"\")\n",
    ")"
   ]
  },
  {
   "cell_type": "code",
   "execution_count": 11,
   "metadata": {},
   "outputs": [
    {
     "output_type": "error",
     "ename": "TypeError",
     "evalue": "loop of ufunc does not support argument 0 of type str which has no callable log method",
     "traceback": [
      "\u001b[0;31m---------------------------------------------------------------------------\u001b[0m",
      "\u001b[0;31mAttributeError\u001b[0m                            Traceback (most recent call last)",
      "\u001b[0;31mAttributeError\u001b[0m: 'str' object has no attribute 'log'",
      "\nThe above exception was the direct cause of the following exception:\n",
      "\u001b[0;31mTypeError\u001b[0m                                 Traceback (most recent call last)",
      "\u001b[0;32m<ipython-input-11-e7e466df88cf>\u001b[0m in \u001b[0;36m<module>\u001b[0;34m\u001b[0m\n\u001b[1;32m      1\u001b[0m \u001b[0mfilter_res\u001b[0m \u001b[0;34m=\u001b[0m \u001b[0mmean_res\u001b[0m\u001b[0;34m.\u001b[0m\u001b[0mdrop\u001b[0m\u001b[0;34m(\u001b[0m\u001b[0;34m[\u001b[0m\u001b[0;34m\"arK-arK\"\u001b[0m\u001b[0;34m,\u001b[0m \u001b[0;34m\"dogs-dogs\"\u001b[0m\u001b[0;34m,\u001b[0m \u001b[0;34m\"dogs-dogs_log\"\u001b[0m\u001b[0;34m,\u001b[0m \u001b[0;34m\"bball_drive_event_0-hmm_drive_0\"\u001b[0m\u001b[0;34m,\u001b[0m \u001b[0;34m\"hmm_example-hmm_example\"\u001b[0m\u001b[0;34m]\u001b[0m\u001b[0;34m)\u001b[0m\u001b[0;34m\u001b[0m\u001b[0;34m\u001b[0m\u001b[0m\n\u001b[0;32m----> 2\u001b[0;31m \u001b[0mprint\u001b[0m\u001b[0;34m(\u001b[0m\u001b[0;34mf\"average speedup: {scipy.stats.gmean(filter_res.speedup.dropna())}\"\u001b[0m\u001b[0;34m)\u001b[0m\u001b[0;34m\u001b[0m\u001b[0;34m\u001b[0m\u001b[0m\n\u001b[0m\u001b[1;32m      3\u001b[0m \u001b[0mprint\u001b[0m\u001b[0;34m(\u001b[0m\u001b[0;34mf\"Valid benchs: {len(filter_res)}\"\u001b[0m\u001b[0;34m)\u001b[0m\u001b[0;34m\u001b[0m\u001b[0;34m\u001b[0m\u001b[0m\n\u001b[1;32m      4\u001b[0m \u001b[0mprint\u001b[0m\u001b[0;34m(\u001b[0m\u001b[0;34mf\"Valid speedup: {len(filter_res['speedup'].dropna())}\"\u001b[0m\u001b[0;34m)\u001b[0m\u001b[0;34m\u001b[0m\u001b[0;34m\u001b[0m\u001b[0m\n",
      "\u001b[0;32m~/.pyenv/versions/3.9.1/lib/python3.9/site-packages/scipy/stats/stats.py\u001b[0m in \u001b[0;36mgmean\u001b[0;34m(a, axis, dtype)\u001b[0m\n\u001b[1;32m    400\u001b[0m     \u001b[0;32mif\u001b[0m \u001b[0;32mnot\u001b[0m \u001b[0misinstance\u001b[0m\u001b[0;34m(\u001b[0m\u001b[0ma\u001b[0m\u001b[0;34m,\u001b[0m \u001b[0mnp\u001b[0m\u001b[0;34m.\u001b[0m\u001b[0mndarray\u001b[0m\u001b[0;34m)\u001b[0m\u001b[0;34m:\u001b[0m\u001b[0;34m\u001b[0m\u001b[0;34m\u001b[0m\u001b[0m\n\u001b[1;32m    401\u001b[0m         \u001b[0;31m# if not an ndarray object attempt to convert it\u001b[0m\u001b[0;34m\u001b[0m\u001b[0;34m\u001b[0m\u001b[0;34m\u001b[0m\u001b[0m\n\u001b[0;32m--> 402\u001b[0;31m         \u001b[0mlog_a\u001b[0m \u001b[0;34m=\u001b[0m \u001b[0mnp\u001b[0m\u001b[0;34m.\u001b[0m\u001b[0mlog\u001b[0m\u001b[0;34m(\u001b[0m\u001b[0mnp\u001b[0m\u001b[0;34m.\u001b[0m\u001b[0marray\u001b[0m\u001b[0;34m(\u001b[0m\u001b[0ma\u001b[0m\u001b[0;34m,\u001b[0m \u001b[0mdtype\u001b[0m\u001b[0;34m=\u001b[0m\u001b[0mdtype\u001b[0m\u001b[0;34m)\u001b[0m\u001b[0;34m)\u001b[0m\u001b[0;34m\u001b[0m\u001b[0;34m\u001b[0m\u001b[0m\n\u001b[0m\u001b[1;32m    403\u001b[0m     \u001b[0;32melif\u001b[0m \u001b[0mdtype\u001b[0m\u001b[0;34m:\u001b[0m\u001b[0;34m\u001b[0m\u001b[0;34m\u001b[0m\u001b[0m\n\u001b[1;32m    404\u001b[0m         \u001b[0;31m# Must change the default dtype allowing array type\u001b[0m\u001b[0;34m\u001b[0m\u001b[0;34m\u001b[0m\u001b[0;34m\u001b[0m\u001b[0m\n",
      "\u001b[0;31mTypeError\u001b[0m: loop of ufunc does not support argument 0 of type str which has no callable log method"
     ]
    }
   ],
   "source": []
  },
  {
   "cell_type": "code",
   "execution_count": null,
   "metadata": {},
   "outputs": [],
   "source": []
  }
 ]
}