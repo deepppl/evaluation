{
 "metadata": {
  "language_info": {
   "codemirror_mode": {
    "name": "ipython",
    "version": 3
   },
   "file_extension": ".py",
   "mimetype": "text/x-python",
   "name": "python",
   "nbconvert_exporter": "python",
   "pygments_lexer": "ipython3",
   "version": "3.9.1-final"
  },
  "orig_nbformat": 2,
  "kernelspec": {
   "name": "python3",
   "display_name": "Python 3",
   "language": "python"
  }
 },
 "nbformat": 4,
 "nbformat_minor": 2,
 "cells": [
  {
   "cell_type": "code",
   "execution_count": null,
   "metadata": {},
   "outputs": [],
   "source": [
    "import pandas as pd\n",
    "import scipy.stats"
   ]
  },
  {
   "cell_type": "code",
   "execution_count": null,
   "metadata": {},
   "outputs": [],
   "source": [
    "def preprocess_average(name, files):\n",
    "    dfs = []\n",
    "    n = len(files)\n",
    "    for i, f in enumerate(files):\n",
    "        df = pd.read_csv(f, index_col=0)\n",
    "        df.columns = [f\"{name}_{i}_{x}\" for x in df.columns]\n",
    "        dfs.append(df)\n",
    "\n",
    "    df = pd.concat(dfs, axis=1)\n",
    "    df.loc[df[[f\"{name}_{i}_status\" for i in range(n)]].eq(\"success\").any(axis=1), f\"{name}_status\"] = \"success\"\n",
    "    df.loc[df[[f\"{name}_{i}_status\" for i in range(n)]].eq(\"error\").any(axis=1), f\"{name}_status\"] = \"error\"\n",
    "    df[f\"{name}_status\"] = df[f\"{name}_status\"].fillna(\"mismatch\")\n",
    "    \n",
    "    df[f\"{name}_time\"] = df[[f\"{name}_{i}_time\" for i in range(n)]].mean(axis=1)\n",
    "    df[f\"{name}_time_std\"] = df[[f\"{name}_{i}_time\" for i in range(n)]].std(axis=1)\n",
    "\n",
    "    tfrmt = lambda x: x if pd.isna(x) else f\"{x // 3600:02.0f}:{x // 60 % 60:02.0f}:{x % 60:02.0f}\"\n",
    "    df[f\"{name}_duration\"] = df[f\"{name}_time\"].apply(tfrmt)\n",
    "\n",
    "    return df[[f\"{name}_status\", f\"{name}_time\", f\"{name}_time_std\", f\"{name}_duration\"]]"
   ]
  },
  {
   "cell_type": "code",
   "execution_count": null,
   "metadata": {
    "tags": []
   },
   "outputs": [],
   "source": [
    "pyro_comprehensive = preprocess_average(\n",
    "    \"pyro_comprehensive\", \n",
    "    [\"210113_0819_pyro_comprehensive_0.csv\",\n",
    "     \"210113_0820_pyro_comprehensive_1.csv\",\n",
    "     \"210113_0820_pyro_comprehensive_2.csv\", \n",
    "     \"210113_0818_pyro_comprehensive_3.csv\", \n",
    "     \"210113_0818_pyro_comprehensive_4.csv\"])\n",
    "numpyro_comprehensive = preprocess_average(\n",
    "    \"numpyro_comprehensive\", \n",
    "    [\"210127_0806_numpyro_comprehensive_0.csv\",\n",
    "     \"210127_0844_numpyro_comprehensive_1.csv\",\n",
    "     \"210127_0923_numpyro_comprehensive_2.csv\", \n",
    "     \"210127_1001_numpyro_comprehensive_3.csv\", \n",
    "     \"210127_1039_numpyro_comprehensive_4.csv\"])\n",
    "numpyro_mixed = preprocess_average(\n",
    "    \"numpyro_mixed\",\n",
    "    [\"210112_1425_numpyro_mixed_0.csv\",\n",
    "     \"210112_1459_numpyro_mixed_1.csv\",\n",
    "     \"210112_1532_numpyro_mixed_2.csv\",\n",
    "     \"210112_1605_numpyro_mixed_3.csv\",\n",
    "     \"210112_1639_numpyro_mixed_4.csv\",])\n",
    "numpyro_generative = preprocess_average(\n",
    "    \"numpyro_generative\", \n",
    "    [\"210127_0713_numpyro_generative_0.csv\",\n",
    "     \"210127_0720_numpyro_generative_1.csv\",\n",
    "     \"210127_0728_numpyro_generative_2.csv\", \n",
    "     \"210127_0735_numpyro_generative_3.csv\", \n",
    "     \"210127_0743_numpyro_generative_4.csv\"])\n",
    "stan = preprocess_average(\n",
    "    \"stan\", \n",
    "    [\"210126_0558_stan_0.csv\",\n",
    "     \"210126_0857_stan_1.csv\",\n",
    "     \"210126_1155_stan_2.csv\",\n",
    "     \"210126_1454_stan_3.csv\",\n",
    "     \"210126_1752_stan_4.csv\"])"
   ]
  },
  {
   "cell_type": "code",
   "execution_count": null,
   "metadata": {},
   "outputs": [],
   "source": [
    "mean_res = pd.concat([pyro_comprehensive, numpyro_mixed, numpyro_comprehensive, numpyro_generative, stan], axis=1)\n",
    "mean_res['example'] = mean_res.index.map(lambda x: x.split(\"-\")[1])\n",
    "mean_res['data'] = mean_res.index.map(lambda x: x.split(\"-\")[0])\n",
    "mean_res = mean_res.sort_values(by='example')\n",
    "\n",
    "mean_res['speedup'] = (mean_res.stan_time / mean_res.numpyro_comprehensive_time)\n",
    "speedups = mean_res[mean_res.numpyro_comprehensive_status == \"success\"]['speedup']\n",
    "mean_res['speedup'] = speedups"
   ]
  },
  {
   "cell_type": "code",
   "execution_count": null,
   "metadata": {},
   "outputs": [],
   "source": [
    "print(f\"Stan successes: {len(mean_res[mean_res.stan_status == 'success'])}\")\n",
    "print(f\"High relative std: {mean_res[mean_res.stan_time_std / mean_res.stan_time > 1.0].index.tolist()}\")\n",
    "mean_res = mean_res[mean_res.stan_status == \"success\"]\n",
    "mean_res = mean_res[mean_res.stan_time_std / mean_res.stan_time < 1.0]\n",
    "print(f\"Valid benchs: {len(mean_res)}\")\n",
    "print(f\"Valid speedup: {len(mean_res['speedup'].dropna())}\")"
   ]
  },
  {
   "cell_type": "code",
   "execution_count": null,
   "metadata": {},
   "outputs": [],
   "source": [
    "print(f\"average speedup: {scipy.stats.gmean(mean_res.speedup.dropna())}\")\n",
    "print(f\"Relative std numpyro: {mean_res.numpyro_comprehensive_time_std.mean() / mean_res.numpyro_comprehensive_time.mean()}\")\n",
    "print(f\"Relative std pyro: {mean_res.pyro_comprehensive_time_std.mean() / mean_res.pyro_comprehensive_time.mean()}\")\n",
    "print(f\"Relative std stan: {mean_res.stan_time_std.mean() / mean_res.stan_time.mean()}\")"
   ]
  },
  {
   "cell_type": "code",
   "execution_count": null,
   "metadata": {},
   "outputs": [],
   "source": [
    "print(mean_res[[\"stan_time\", \"numpyro_comprehensive_status\",\"numpyro_comprehensive_time\",\"speedup\"]].to_markdown())"
   ]
  },
  {
   "cell_type": "code",
   "execution_count": null,
   "metadata": {},
   "outputs": [],
   "source": [
    "mean_res['speedup'] = mean_res['speedup'].apply(lambda x: f\"{x:02.2f}\")\n",
    "print(\n",
    "    mean_res[\n",
    "        [\n",
    "            \"example\",\n",
    "            \"data\",\n",
    "            \"stan_status\",\n",
    "            \"stan_duration\",\n",
    "            \"pyro_comprehensive_status\",\n",
    "            \"pyro_comprehensive_duration\",\n",
    "            \"numpyro_comprehensive_status\",\n",
    "            \"numpyro_comprehensive_duration\",\n",
    "            \"numpyro_mixed_status\",\n",
    "            \"numpyro_mixed_duration\",\n",
    "            \"numpyro_generative_status\",\n",
    "            \"numpyro_generative_duration\",\n",
    "            \"speedup\",\n",
    "        ]\n",
    "    ].to_latex(index=False)\n",
    "    .replace(\"success\", \"\\smark\")\n",
    "    .replace(\"error\", \"\\emark\")\n",
    "    .replace(\"mismatch\", \"\\mmark\")\n",
    "    .replace(\"NaN\", \"\")\n",
    "    .replace(\"nan\", \"\")\n",
    ")"
   ]
  },
  {
   "cell_type": "code",
   "execution_count": null,
   "metadata": {},
   "outputs": [],
   "source": []
  }
 ]
}