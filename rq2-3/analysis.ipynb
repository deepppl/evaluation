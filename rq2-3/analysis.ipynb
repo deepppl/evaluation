{
 "metadata": {
  "language_info": {
   "codemirror_mode": {
    "name": "ipython",
    "version": 3
   },
   "file_extension": ".py",
   "mimetype": "text/x-python",
   "name": "python",
   "nbconvert_exporter": "python",
   "pygments_lexer": "ipython3",
   "version": "3.9.1-final"
  },
  "orig_nbformat": 2,
  "kernelspec": {
   "name": "python3",
   "display_name": "Python 3",
   "language": "python"
  }
 },
 "nbformat": 4,
 "nbformat_minor": 2,
 "cells": [
  {
   "cell_type": "code",
   "execution_count": 1,
   "metadata": {},
   "outputs": [],
   "source": [
    "import pandas as pd\n",
    "import scipy.stats\n",
    "import os"
   ]
  },
  {
   "cell_type": "code",
   "execution_count": 2,
   "metadata": {},
   "outputs": [],
   "source": [
    "def preprocess_average(name, logdir=\"logs\"):\n",
    "    dfs = []\n",
    "    files = [f for f in os.listdir(logdir) if f\"_{name}_\" in f]\n",
    "    n = len(files)\n",
    "    for i, f in enumerate(files):\n",
    "        df = pd.read_csv(f\"{logdir}/{f}\", index_col=0)\n",
    "        df.columns = [f\"{name}_{i}_{x}\" for x in df.columns]\n",
    "        dfs.append(df)\n",
    "\n",
    "    df = pd.concat(dfs, axis=1)\n",
    "    df.loc[df[[f\"{name}_{i}_status\" for i in range(n)]].eq(\"success\").any(axis=1), f\"{name}_status\"] = \"success\"\n",
    "    df.loc[df[[f\"{name}_{i}_status\" for i in range(n)]].eq(\"error\").any(axis=1), f\"{name}_status\"] = \"error\"\n",
    "    df[f\"{name}_status\"] = df[f\"{name}_status\"].fillna(\"mismatch\")\n",
    "    \n",
    "    df[f\"{name}_time\"] = df[[f\"{name}_{i}_time\" for i in range(n)]].mean(axis=1)\n",
    "    df[f\"{name}_time_std\"] = df[[f\"{name}_{i}_time\" for i in range(n)]].std(axis=1)\n",
    "\n",
    "    tfrmt = lambda x: x if pd.isna(x) else f\"{x // 3600:02.0f}:{x // 60 % 60:02.0f}:{x % 60:02.0f}\"\n",
    "    df[f\"{name}_duration\"] = df[f\"{name}_time\"].apply(tfrmt)\n",
    "\n",
    "    return df[[f\"{name}_status\", f\"{name}_time\", f\"{name}_time_std\", f\"{name}_duration\"]]"
   ]
  },
  {
   "cell_type": "code",
   "execution_count": 3,
   "metadata": {},
   "outputs": [],
   "source": [
    "pyro_comprehensive = preprocess_average(\"pyro_comprehensive\")\n",
    "numpyro_comprehensive = preprocess_average(\"numpyro_comprehensive\")\n",
    "numpyro_mixed = preprocess_average(\"numpyro_mixed\")\n",
    "# numpyro_generative = preprocess_average(\"numpyro_generative\")\n",
    "stan = preprocess_average(\"stan\")"
   ]
  },
  {
   "cell_type": "code",
   "execution_count": 4,
   "metadata": {},
   "outputs": [],
   "source": [
    "# mean_res = pd.concat([pyro_comprehensive, numpyro_mixed, numpyro_comprehensive, numpyro_generative, stan], axis=1)\n",
    "mean_res = pd.concat([stan, numpyro_comprehensive], axis=1)\n",
    "mean_res['example'] = mean_res.index.map(lambda x: x.split(\"-\")[1])\n",
    "mean_res['data'] = mean_res.index.map(lambda x: x.split(\"-\")[0])\n",
    "mean_res = mean_res.sort_values(by='example')\n",
    "\n",
    "mean_res['speedup'] = (mean_res.stan_time / mean_res.numpyro_comprehensive_time)\n",
    "speedups = mean_res[mean_res.numpyro_comprehensive_status == \"success\"]['speedup']\n",
    "mean_res['speedup'] = speedups"
   ]
  },
  {
   "cell_type": "code",
   "execution_count": 5,
   "metadata": {},
   "outputs": [
    {
     "output_type": "stream",
     "name": "stdout",
     "text": [
      "Stan successes: 36\nHigh relative std: ['arma-arma11']\nValid benchs: 35\nValid speedup: 1\n"
     ]
    }
   ],
   "source": [
    "print(f\"Stan successes: {len(mean_res[mean_res.stan_status == 'success'])}\")\n",
    "print(f\"High relative std: {mean_res[mean_res.stan_time_std / mean_res.stan_time > 1.0].index.tolist()}\")\n",
    "mean_res = mean_res[mean_res.stan_status == \"success\"]\n",
    "mean_res = mean_res[mean_res.stan_time_std / mean_res.stan_time < 1.0]\n",
    "print(f\"Valid benchs: {len(mean_res)}\")\n",
    "print(f\"Valid speedup: {len(mean_res['speedup'].dropna())}\")"
   ]
  },
  {
   "cell_type": "code",
   "execution_count": 6,
   "metadata": {},
   "outputs": [
    {
     "output_type": "stream",
     "name": "stdout",
     "text": [
      "average speedup: 2.1258117964489553\nRelative std numpyro: 0.6941714032306678\nRelative std stan: 0.04136124286874295\n"
     ]
    }
   ],
   "source": [
    "print(f\"average speedup: {scipy.stats.gmean(mean_res.speedup.dropna())}\")\n",
    "print(f\"Relative std numpyro: {mean_res.numpyro_comprehensive_time_std.mean() / mean_res.numpyro_comprehensive_time.mean()}\")\n",
    "# print(f\"Relative std pyro: {mean_res.pyro_comprehensive_time_std.mean() / mean_res.pyro_comprehensive_time.mean()}\")\n",
    "print(f\"Relative std stan: {mean_res.stan_time_std.mean() / mean_res.stan_time.mean()}\")"
   ]
  },
  {
   "cell_type": "code",
   "execution_count": 7,
   "metadata": {},
   "outputs": [
    {
     "output_type": "stream",
     "name": "stdout",
     "text": [
      "|                                             | stan_duration   |   speedup |\n|:--------------------------------------------|:----------------|----------:|\n| mcycle_gp-accel_gp                          | 00:18:23        | nan       |\n| arK-arK                                     | 00:00:59        | nan       |\n| dogs-dogs                                   | 00:02:02        | nan       |\n| dogs-dogs_log                               | 00:01:26        | nan       |\n| earnings-earn_height                        | 00:01:19        | nan       |\n| eight_schools-eight_schools_centered        | 00:00:02        | nan       |\n| eight_schools-eight_schools_noncentered     | 00:00:02        | nan       |\n| garch-garch11                               | 00:00:17        | nan       |\n| gp_pois_regr-gp_regr                        | 00:00:03        | nan       |\n| bball_drive_event_0-hmm_drive_0             | 00:04:09        | nan       |\n| hmm_example-hmm_example                     | 00:00:31        | nan       |\n| kidiq-kidscore_interaction                  | 00:01:44        | nan       |\n| kidiq_with_mom_work-kidscore_interaction_c2 | 00:00:11        | nan       |\n| kidiq_with_mom_work-kidscore_mom_work       | 00:00:15        | nan       |\n| kidiq-kidscore_momhs                        | 00:00:06        | nan       |\n| kidiq-kidscore_momhsiq                      | 00:00:29        | nan       |\n| kidiq-kidscore_momiq                        | 00:00:13        | nan       |\n| kilpisjarvi_mod-kilpisjarvi                 | 00:01:00        | nan       |\n| earnings-log10earn_height                   | 00:01:20        | nan       |\n| earnings-logearn_height                     | 00:01:19        | nan       |\n| earnings-logearn_height_male                | 00:03:42        | nan       |\n| earnings-logearn_interaction                | 00:09:20        | nan       |\n| mesquite-logmesquite                        | 00:00:09        | nan       |\n| mesquite-logmesquite_logva                  | 00:00:06        | nan       |\n| mesquite-logmesquite_logvas                 | 00:00:15        |   2.12581 |\n| mesquite-logmesquite_logvash                | 00:00:12        | nan       |\n| mesquite-mesquite                           | 00:00:15        | nan       |\n| nes1980-nes                                 | 00:03:42        | nan       |\n| nes1976-nes                                 | 00:07:06        | nan       |\n| nes1984-nes                                 | 00:07:28        | nan       |\n| nes1972-nes                                 | 00:07:48        | nan       |\n| nes2000-nes                                 | 00:02:40        | nan       |\n| nes1996-nes                                 | 00:06:23        | nan       |\n| nes1988-nes                                 | 00:05:35        | nan       |\n| one_comp_mm_elim_abs-one_comp_mm_elim_abs   | 00:16:54        | nan       |\n"
     ]
    }
   ],
   "source": [
    "print(mean_res[[\"stan_duration\", \"speedup\"]].to_markdown())"
   ]
  },
  {
   "cell_type": "code",
   "execution_count": null,
   "metadata": {},
   "outputs": [],
   "source": [
    "mean_res['speedup'] = mean_res['speedup'].apply(lambda x: f\"{x:02.2f}\")\n",
    "print(\n",
    "    mean_res[\n",
    "        [\n",
    "            \"example\",\n",
    "            \"data\",\n",
    "            \"stan_status\",\n",
    "            \"stan_duration\",\n",
    "            \"pyro_comprehensive_status\",\n",
    "            \"pyro_comprehensive_duration\",\n",
    "            \"numpyro_comprehensive_status\",\n",
    "            \"numpyro_comprehensive_duration\",\n",
    "            \"numpyro_mixed_status\",\n",
    "            \"numpyro_mixed_duration\",\n",
    "            \"numpyro_generative_status\",\n",
    "            \"numpyro_generative_duration\",\n",
    "            \"speedup\",\n",
    "        ]\n",
    "    ].to_latex(index=False)\n",
    "    .replace(\"success\", \"\\smark\")\n",
    "    .replace(\"error\", \"\\emark\")\n",
    "    .replace(\"mismatch\", \"\\mmark\")\n",
    "    .replace(\"NaN\", \"\")\n",
    "    .replace(\"nan\", \"\")\n",
    ")"
   ]
  },
  {
   "cell_type": "code",
   "execution_count": null,
   "metadata": {},
   "outputs": [],
   "source": []
  },
  {
   "cell_type": "code",
   "execution_count": null,
   "metadata": {},
   "outputs": [],
   "source": []
  }
 ]
}